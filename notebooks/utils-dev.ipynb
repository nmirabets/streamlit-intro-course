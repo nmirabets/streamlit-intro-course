{
 "cells": [
  {
   "cell_type": "markdown",
   "metadata": {},
   "source": [
    "# Data Exploration\n",
    "\n",
    "+ In this notebook, we will explore the data from the IEA API.\n",
    "+ We will load the data, explore it, decide what to keep and create a function to load the data.\n"
   ]
  },
  {
   "cell_type": "code",
   "execution_count": 12,
   "metadata": {},
   "outputs": [],
   "source": [
    "import pandas as pd"
   ]
  },
  {
   "cell_type": "code",
   "execution_count": 13,
   "metadata": {},
   "outputs": [
    {
     "data": {
      "text/html": [
       "<div>\n",
       "<style scoped>\n",
       "    .dataframe tbody tr th:only-of-type {\n",
       "        vertical-align: middle;\n",
       "    }\n",
       "\n",
       "    .dataframe tbody tr th {\n",
       "        vertical-align: top;\n",
       "    }\n",
       "\n",
       "    .dataframe thead th {\n",
       "        text-align: right;\n",
       "    }\n",
       "</style>\n",
       "<table border=\"1\" class=\"dataframe\">\n",
       "  <thead>\n",
       "    <tr style=\"text-align: right;\">\n",
       "      <th></th>\n",
       "      <th>region</th>\n",
       "      <th>category</th>\n",
       "      <th>parameter</th>\n",
       "      <th>mode</th>\n",
       "      <th>powertrain</th>\n",
       "      <th>year</th>\n",
       "      <th>unit</th>\n",
       "      <th>value</th>\n",
       "    </tr>\n",
       "  </thead>\n",
       "  <tbody>\n",
       "    <tr>\n",
       "      <th>0</th>\n",
       "      <td>Australia</td>\n",
       "      <td>Historical</td>\n",
       "      <td>EV sales share</td>\n",
       "      <td>Cars</td>\n",
       "      <td>EV</td>\n",
       "      <td>2011</td>\n",
       "      <td>percent</td>\n",
       "      <td>0.00650</td>\n",
       "    </tr>\n",
       "    <tr>\n",
       "      <th>1</th>\n",
       "      <td>Australia</td>\n",
       "      <td>Historical</td>\n",
       "      <td>EV stock share</td>\n",
       "      <td>Cars</td>\n",
       "      <td>EV</td>\n",
       "      <td>2011</td>\n",
       "      <td>percent</td>\n",
       "      <td>0.00039</td>\n",
       "    </tr>\n",
       "    <tr>\n",
       "      <th>2</th>\n",
       "      <td>Australia</td>\n",
       "      <td>Historical</td>\n",
       "      <td>EV sales</td>\n",
       "      <td>Cars</td>\n",
       "      <td>BEV</td>\n",
       "      <td>2011</td>\n",
       "      <td>Vehicles</td>\n",
       "      <td>49.00000</td>\n",
       "    </tr>\n",
       "    <tr>\n",
       "      <th>3</th>\n",
       "      <td>Australia</td>\n",
       "      <td>Historical</td>\n",
       "      <td>EV stock</td>\n",
       "      <td>Cars</td>\n",
       "      <td>BEV</td>\n",
       "      <td>2011</td>\n",
       "      <td>Vehicles</td>\n",
       "      <td>49.00000</td>\n",
       "    </tr>\n",
       "    <tr>\n",
       "      <th>4</th>\n",
       "      <td>Australia</td>\n",
       "      <td>Historical</td>\n",
       "      <td>EV stock</td>\n",
       "      <td>Cars</td>\n",
       "      <td>BEV</td>\n",
       "      <td>2012</td>\n",
       "      <td>Vehicles</td>\n",
       "      <td>220.00000</td>\n",
       "    </tr>\n",
       "  </tbody>\n",
       "</table>\n",
       "</div>"
      ],
      "text/plain": [
       "      region    category       parameter  mode powertrain  year      unit  \\\n",
       "0  Australia  Historical  EV sales share  Cars         EV  2011   percent   \n",
       "1  Australia  Historical  EV stock share  Cars         EV  2011   percent   \n",
       "2  Australia  Historical        EV sales  Cars        BEV  2011  Vehicles   \n",
       "3  Australia  Historical        EV stock  Cars        BEV  2011  Vehicles   \n",
       "4  Australia  Historical        EV stock  Cars        BEV  2012  Vehicles   \n",
       "\n",
       "       value  \n",
       "0    0.00650  \n",
       "1    0.00039  \n",
       "2   49.00000  \n",
       "3   49.00000  \n",
       "4  220.00000  "
      ]
     },
     "metadata": {},
     "output_type": "display_data"
    },
    {
     "data": {
      "text/html": [
       "<div>\n",
       "<style scoped>\n",
       "    .dataframe tbody tr th:only-of-type {\n",
       "        vertical-align: middle;\n",
       "    }\n",
       "\n",
       "    .dataframe tbody tr th {\n",
       "        vertical-align: top;\n",
       "    }\n",
       "\n",
       "    .dataframe thead th {\n",
       "        text-align: right;\n",
       "    }\n",
       "</style>\n",
       "<table border=\"1\" class=\"dataframe\">\n",
       "  <thead>\n",
       "    <tr style=\"text-align: right;\">\n",
       "      <th></th>\n",
       "      <th>region</th>\n",
       "      <th>category</th>\n",
       "      <th>parameter</th>\n",
       "      <th>mode</th>\n",
       "      <th>powertrain</th>\n",
       "      <th>year</th>\n",
       "      <th>unit</th>\n",
       "      <th>value</th>\n",
       "    </tr>\n",
       "  </thead>\n",
       "  <tbody>\n",
       "    <tr>\n",
       "      <th>0</th>\n",
       "      <td>Australia</td>\n",
       "      <td>Historical</td>\n",
       "      <td>EV charging points</td>\n",
       "      <td>EV</td>\n",
       "      <td>Publicly available fast</td>\n",
       "      <td>2017</td>\n",
       "      <td>charging points</td>\n",
       "      <td>40.0</td>\n",
       "    </tr>\n",
       "    <tr>\n",
       "      <th>1</th>\n",
       "      <td>Australia</td>\n",
       "      <td>Historical</td>\n",
       "      <td>EV charging points</td>\n",
       "      <td>EV</td>\n",
       "      <td>Publicly available slow</td>\n",
       "      <td>2017</td>\n",
       "      <td>charging points</td>\n",
       "      <td>440.0</td>\n",
       "    </tr>\n",
       "    <tr>\n",
       "      <th>2</th>\n",
       "      <td>Australia</td>\n",
       "      <td>Historical</td>\n",
       "      <td>EV charging points</td>\n",
       "      <td>EV</td>\n",
       "      <td>Publicly available fast</td>\n",
       "      <td>2018</td>\n",
       "      <td>charging points</td>\n",
       "      <td>61.0</td>\n",
       "    </tr>\n",
       "    <tr>\n",
       "      <th>3</th>\n",
       "      <td>Australia</td>\n",
       "      <td>Historical</td>\n",
       "      <td>EV charging points</td>\n",
       "      <td>EV</td>\n",
       "      <td>Publicly available slow</td>\n",
       "      <td>2018</td>\n",
       "      <td>charging points</td>\n",
       "      <td>670.0</td>\n",
       "    </tr>\n",
       "    <tr>\n",
       "      <th>4</th>\n",
       "      <td>Australia</td>\n",
       "      <td>Historical</td>\n",
       "      <td>EV charging points</td>\n",
       "      <td>EV</td>\n",
       "      <td>Publicly available slow</td>\n",
       "      <td>2019</td>\n",
       "      <td>charging points</td>\n",
       "      <td>1700.0</td>\n",
       "    </tr>\n",
       "  </tbody>\n",
       "</table>\n",
       "</div>"
      ],
      "text/plain": [
       "      region    category           parameter mode               powertrain  \\\n",
       "0  Australia  Historical  EV charging points   EV  Publicly available fast   \n",
       "1  Australia  Historical  EV charging points   EV  Publicly available slow   \n",
       "2  Australia  Historical  EV charging points   EV  Publicly available fast   \n",
       "3  Australia  Historical  EV charging points   EV  Publicly available slow   \n",
       "4  Australia  Historical  EV charging points   EV  Publicly available slow   \n",
       "\n",
       "   year             unit   value  \n",
       "0  2017  charging points    40.0  \n",
       "1  2017  charging points   440.0  \n",
       "2  2018  charging points    61.0  \n",
       "3  2018  charging points   670.0  \n",
       "4  2019  charging points  1700.0  "
      ]
     },
     "metadata": {},
     "output_type": "display_data"
    }
   ],
   "source": [
    "ev_sales_url = \"https://api.iea.org/evs?parameters=EV%20sales&category=Historical&mode=Cars&csv=true\"\n",
    "\n",
    "ev_charging_points_url = \"https://api.iea.org/evs?parameters=EV%20charging%20points&category=Historical&mode=EV&csv=true\"\n",
    "\n",
    "ev_sales_df = pd.read_csv(ev_sales_url)\n",
    "ev_charging_points_df = pd.read_csv(ev_charging_points_url)\n",
    "\n",
    "display(ev_sales_df.head())\n",
    "display(ev_charging_points_df.head())"
   ]
  },
  {
   "cell_type": "code",
   "execution_count": 14,
   "metadata": {},
   "outputs": [
    {
     "name": "stdout",
     "output_type": "stream",
     "text": [
      "<class 'pandas.core.frame.DataFrame'>\n",
      "RangeIndex: 3798 entries, 0 to 3797\n",
      "Data columns (total 8 columns):\n",
      " #   Column      Non-Null Count  Dtype  \n",
      "---  ------      --------------  -----  \n",
      " 0   region      3798 non-null   object \n",
      " 1   category    3798 non-null   object \n",
      " 2   parameter   3798 non-null   object \n",
      " 3   mode        3798 non-null   object \n",
      " 4   powertrain  3798 non-null   object \n",
      " 5   year        3798 non-null   int64  \n",
      " 6   unit        3798 non-null   object \n",
      " 7   value       3798 non-null   float64\n",
      "dtypes: float64(1), int64(1), object(6)\n",
      "memory usage: 237.5+ KB\n"
     ]
    }
   ],
   "source": [
    "ev_sales_df.info()"
   ]
  },
  {
   "cell_type": "code",
   "execution_count": 15,
   "metadata": {},
   "outputs": [
    {
     "data": {
      "text/html": [
       "<div>\n",
       "<style scoped>\n",
       "    .dataframe tbody tr th:only-of-type {\n",
       "        vertical-align: middle;\n",
       "    }\n",
       "\n",
       "    .dataframe tbody tr th {\n",
       "        vertical-align: top;\n",
       "    }\n",
       "\n",
       "    .dataframe thead th {\n",
       "        text-align: right;\n",
       "    }\n",
       "</style>\n",
       "<table border=\"1\" class=\"dataframe\">\n",
       "  <thead>\n",
       "    <tr style=\"text-align: right;\">\n",
       "      <th></th>\n",
       "      <th>region</th>\n",
       "      <th>category</th>\n",
       "      <th>parameter</th>\n",
       "      <th>mode</th>\n",
       "      <th>powertrain</th>\n",
       "      <th>year</th>\n",
       "      <th>unit</th>\n",
       "      <th>value</th>\n",
       "    </tr>\n",
       "  </thead>\n",
       "  <tbody>\n",
       "    <tr>\n",
       "      <th>2</th>\n",
       "      <td>Australia</td>\n",
       "      <td>Historical</td>\n",
       "      <td>EV sales</td>\n",
       "      <td>Cars</td>\n",
       "      <td>BEV</td>\n",
       "      <td>2011</td>\n",
       "      <td>Vehicles</td>\n",
       "      <td>49.0</td>\n",
       "    </tr>\n",
       "    <tr>\n",
       "      <th>5</th>\n",
       "      <td>Australia</td>\n",
       "      <td>Historical</td>\n",
       "      <td>EV sales</td>\n",
       "      <td>Cars</td>\n",
       "      <td>BEV</td>\n",
       "      <td>2012</td>\n",
       "      <td>Vehicles</td>\n",
       "      <td>170.0</td>\n",
       "    </tr>\n",
       "    <tr>\n",
       "      <th>9</th>\n",
       "      <td>Australia</td>\n",
       "      <td>Historical</td>\n",
       "      <td>EV sales</td>\n",
       "      <td>Cars</td>\n",
       "      <td>PHEV</td>\n",
       "      <td>2012</td>\n",
       "      <td>Vehicles</td>\n",
       "      <td>80.0</td>\n",
       "    </tr>\n",
       "    <tr>\n",
       "      <th>10</th>\n",
       "      <td>Australia</td>\n",
       "      <td>Historical</td>\n",
       "      <td>EV sales</td>\n",
       "      <td>Cars</td>\n",
       "      <td>PHEV</td>\n",
       "      <td>2013</td>\n",
       "      <td>Vehicles</td>\n",
       "      <td>100.0</td>\n",
       "    </tr>\n",
       "    <tr>\n",
       "      <th>14</th>\n",
       "      <td>Australia</td>\n",
       "      <td>Historical</td>\n",
       "      <td>EV sales</td>\n",
       "      <td>Cars</td>\n",
       "      <td>BEV</td>\n",
       "      <td>2013</td>\n",
       "      <td>Vehicles</td>\n",
       "      <td>190.0</td>\n",
       "    </tr>\n",
       "  </tbody>\n",
       "</table>\n",
       "</div>"
      ],
      "text/plain": [
       "       region    category parameter  mode powertrain  year      unit  value\n",
       "2   Australia  Historical  EV sales  Cars        BEV  2011  Vehicles   49.0\n",
       "5   Australia  Historical  EV sales  Cars        BEV  2012  Vehicles  170.0\n",
       "9   Australia  Historical  EV sales  Cars       PHEV  2012  Vehicles   80.0\n",
       "10  Australia  Historical  EV sales  Cars       PHEV  2013  Vehicles  100.0\n",
       "14  Australia  Historical  EV sales  Cars        BEV  2013  Vehicles  190.0"
      ]
     },
     "execution_count": 15,
     "metadata": {},
     "output_type": "execute_result"
    }
   ],
   "source": [
    "ev_sales_df[ev_sales_df['parameter'] == 'EV sales'].head()"
   ]
  },
  {
   "cell_type": "code",
   "execution_count": 16,
   "metadata": {},
   "outputs": [
    {
     "data": {
      "text/html": [
       "<div>\n",
       "<style scoped>\n",
       "    .dataframe tbody tr th:only-of-type {\n",
       "        vertical-align: middle;\n",
       "    }\n",
       "\n",
       "    .dataframe tbody tr th {\n",
       "        vertical-align: top;\n",
       "    }\n",
       "\n",
       "    .dataframe thead th {\n",
       "        text-align: right;\n",
       "    }\n",
       "</style>\n",
       "<table border=\"1\" class=\"dataframe\">\n",
       "  <thead>\n",
       "    <tr style=\"text-align: right;\">\n",
       "      <th></th>\n",
       "      <th>region</th>\n",
       "      <th>category</th>\n",
       "      <th>parameter</th>\n",
       "      <th>mode</th>\n",
       "      <th>powertrain</th>\n",
       "      <th>year</th>\n",
       "      <th>unit</th>\n",
       "      <th>value</th>\n",
       "    </tr>\n",
       "  </thead>\n",
       "  <tbody>\n",
       "    <tr>\n",
       "      <th>0</th>\n",
       "      <td>Australia</td>\n",
       "      <td>Historical</td>\n",
       "      <td>EV sales share</td>\n",
       "      <td>Cars</td>\n",
       "      <td>EV</td>\n",
       "      <td>2011</td>\n",
       "      <td>percent</td>\n",
       "      <td>0.0065</td>\n",
       "    </tr>\n",
       "    <tr>\n",
       "      <th>7</th>\n",
       "      <td>Australia</td>\n",
       "      <td>Historical</td>\n",
       "      <td>EV sales share</td>\n",
       "      <td>Cars</td>\n",
       "      <td>EV</td>\n",
       "      <td>2012</td>\n",
       "      <td>percent</td>\n",
       "      <td>0.0300</td>\n",
       "    </tr>\n",
       "    <tr>\n",
       "      <th>12</th>\n",
       "      <td>Australia</td>\n",
       "      <td>Historical</td>\n",
       "      <td>EV sales share</td>\n",
       "      <td>Cars</td>\n",
       "      <td>EV</td>\n",
       "      <td>2013</td>\n",
       "      <td>percent</td>\n",
       "      <td>0.0340</td>\n",
       "    </tr>\n",
       "    <tr>\n",
       "      <th>19</th>\n",
       "      <td>Australia</td>\n",
       "      <td>Historical</td>\n",
       "      <td>EV sales share</td>\n",
       "      <td>Cars</td>\n",
       "      <td>EV</td>\n",
       "      <td>2014</td>\n",
       "      <td>percent</td>\n",
       "      <td>0.1600</td>\n",
       "    </tr>\n",
       "    <tr>\n",
       "      <th>24</th>\n",
       "      <td>Australia</td>\n",
       "      <td>Historical</td>\n",
       "      <td>EV sales share</td>\n",
       "      <td>Cars</td>\n",
       "      <td>EV</td>\n",
       "      <td>2015</td>\n",
       "      <td>percent</td>\n",
       "      <td>0.2000</td>\n",
       "    </tr>\n",
       "  </tbody>\n",
       "</table>\n",
       "</div>"
      ],
      "text/plain": [
       "       region    category       parameter  mode powertrain  year     unit  \\\n",
       "0   Australia  Historical  EV sales share  Cars         EV  2011  percent   \n",
       "7   Australia  Historical  EV sales share  Cars         EV  2012  percent   \n",
       "12  Australia  Historical  EV sales share  Cars         EV  2013  percent   \n",
       "19  Australia  Historical  EV sales share  Cars         EV  2014  percent   \n",
       "24  Australia  Historical  EV sales share  Cars         EV  2015  percent   \n",
       "\n",
       "     value  \n",
       "0   0.0065  \n",
       "7   0.0300  \n",
       "12  0.0340  \n",
       "19  0.1600  \n",
       "24  0.2000  "
      ]
     },
     "execution_count": 16,
     "metadata": {},
     "output_type": "execute_result"
    }
   ],
   "source": [
    "ev_sales_df[ev_sales_df['parameter'] == 'EV sales share'].head()"
   ]
  },
  {
   "cell_type": "code",
   "execution_count": 17,
   "metadata": {},
   "outputs": [
    {
     "name": "stdout",
     "output_type": "stream",
     "text": [
      "region\n",
      "['Australia' 'Austria' 'Belgium' 'Brazil' 'Bulgaria' 'Canada' 'Chile'\n",
      " 'China' 'Colombia' 'Costa Rica' 'Croatia' 'Cyprus' 'Czech Republic'\n",
      " 'Denmark' 'Estonia' 'EU27' 'Europe' 'Finland' 'France' 'Germany' 'Greece'\n",
      " 'Hungary' 'Iceland' 'India' 'Ireland' 'Israel' 'Italy' 'Japan' 'Korea'\n",
      " 'Latvia' 'Lithuania' 'Luxembourg' 'Mexico' 'Netherlands' 'New Zealand'\n",
      " 'Norway' 'Poland' 'Portugal' 'Rest of the world' 'Romania' 'Seychelles'\n",
      " 'Slovakia' 'Slovenia' 'South Africa' 'Spain' 'Sweden' 'Switzerland'\n",
      " 'Turkiye' 'United Arab Emirates' 'United Kingdom' 'USA' 'World']\n",
      "\n",
      "category\n",
      "['Historical']\n",
      "\n",
      "parameter\n",
      "['EV sales share' 'EV stock share' 'EV sales' 'EV stock'\n",
      " 'Electricity demand' 'Oil displacement Mbd'\n",
      " 'Oil displacement, million lge']\n",
      "\n",
      "mode\n",
      "['Cars']\n",
      "\n",
      "powertrain\n",
      "['EV' 'BEV' 'PHEV' 'FCEV']\n",
      "\n",
      "year\n",
      "[2011 2012 2013 2014 2015 2016 2017 2018 2019 2020 2021 2022 2023 2010]\n",
      "\n",
      "unit\n",
      "['percent' 'Vehicles' 'GWh' 'Milion barrels per day'\n",
      " 'Oil displacement, million lge']\n",
      "\n"
     ]
    }
   ],
   "source": [
    "for column in ev_sales_df.columns:\n",
    "    if ev_sales_df[column].dtype != 'float64':\n",
    "        print(column)\n",
    "        print(ev_sales_df[column].unique())\n",
    "        print(\"\")\n"
   ]
  },
  {
   "cell_type": "markdown",
   "metadata": {},
   "source": [
    "Let's drop the columns:\n",
    "+ `mode`\n",
    "+ `category`\n",
    "+ `parameter`"
   ]
  },
  {
   "cell_type": "code",
   "execution_count": 18,
   "metadata": {},
   "outputs": [],
   "source": [
    "# Split the df into ev_sales_df, ev_charging_points_df\n",
    "ev_sales_df = ev_sales_df[ev_sales_df['parameter'] == 'EV sales']\n",
    "ev_charging_points_df = ev_charging_points_df[ev_charging_points_df['parameter'] == 'EV charging points']\n",
    "\n",
    "# Drop the columns\n",
    "cols_to_drop = ['mode', 'category', 'parameter']\n",
    "ev_sales_df = ev_sales_df.drop(columns=cols_to_drop)\n",
    "ev_charging_points_df = ev_charging_points_df.drop(columns=cols_to_drop)\n",
    "\n",
    "# Rename the columns\n",
    "ev_sales_df = ev_sales_df.rename(columns={\"value\": \"Cars Sold\", \"region\": \"Region\", \"year\": \"Year\", \"powertrain\": \"Powertrain\"})\n",
    "ev_charging_points_df = ev_charging_points_df.rename(columns={\"value\": \"Charging Points\", \"region\": \"Region\", \"year\": \"Year\", \"powertrain\": \"Powertrain\"})"
   ]
  },
  {
   "cell_type": "markdown",
   "metadata": {},
   "source": [
    "## load_data()"
   ]
  },
  {
   "cell_type": "code",
   "execution_count": 19,
   "metadata": {},
   "outputs": [],
   "source": [
    "def load_data():\n",
    "    \"\"\"\n",
    "    Load the data from the IEA API\n",
    "    \"\"\"\n",
    "\n",
    "    # IEA API URLs\n",
    "    ev_sales_url = \"https://api.iea.org/evs?parameters=EV%20sales&category=Historical&mode=Cars&csv=true\"\n",
    "    ev_charging_points_url = \"https://api.iea.org/evs?parameters=EV%20charging%20points&category=Historical&mode=EV&csv=true\"\n",
    "\n",
    "    # Load the data from the IEA API\n",
    "    ev_sales_df = pd.read_csv(ev_sales_url)\n",
    "    ev_charging_points_df = pd.read_csv(ev_charging_points_url)\n",
    "\n",
    "    # Split the df into ev_sales_df, ev_charging_points_df\n",
    "    ev_sales_df = ev_sales_df[ev_sales_df['parameter'] == 'EV sales']\n",
    "    ev_charging_points_df = ev_charging_points_df[ev_charging_points_df['parameter'] == 'EV charging points']\n",
    "\n",
    "    # Drop the columns\n",
    "    cols_to_drop = ['mode', 'category', 'parameter']\n",
    "    ev_sales_df = ev_sales_df.drop(columns=cols_to_drop)\n",
    "    ev_charging_points_df = ev_charging_points_df.drop(columns=cols_to_drop)\n",
    "\n",
    "    # Rename the columns\n",
    "    ev_sales_df = ev_sales_df.rename(columns={\"value\": \"Cars Sold\", \"region\": \"Region\", \"year\": \"Year\", \"powertrain\": \"Powertrain\"})\n",
    "    ev_charging_points_df = ev_charging_points_df.rename(columns={\"value\": \"Charging Points\", \"region\": \"Region\", \"year\": \"Year\", \"powertrain\": \"Powertrain\"})\n",
    "\n",
    "    print(\"Data loaded successfully\")\n",
    "\n",
    "    return ev_sales_df, ev_charging_points_df\n"
   ]
  },
  {
   "cell_type": "code",
   "execution_count": 20,
   "metadata": {},
   "outputs": [
    {
     "name": "stdout",
     "output_type": "stream",
     "text": [
      "Data loaded successfully\n"
     ]
    },
    {
     "ename": "ValueError",
     "evalue": "not enough values to unpack (expected 3, got 2)",
     "output_type": "error",
     "traceback": [
      "\u001b[0;31m---------------------------------------------------------------------------\u001b[0m",
      "\u001b[0;31mValueError\u001b[0m                                Traceback (most recent call last)",
      "Cell \u001b[0;32mIn[20], line 1\u001b[0m\n\u001b[0;32m----> 1\u001b[0m ev_sales_df, ev_sales_share_df, ev_charging_points_df \u001b[38;5;241m=\u001b[39m load_data()\n",
      "\u001b[0;31mValueError\u001b[0m: not enough values to unpack (expected 3, got 2)"
     ]
    }
   ],
   "source": [
    "ev_sales_df, ev_sales_share_df, ev_charging_points_df = load_data()"
   ]
  },
  {
   "cell_type": "code",
   "execution_count": null,
   "metadata": {},
   "outputs": [],
   "source": [
    "ev_charging_points_df.head()"
   ]
  },
  {
   "cell_type": "markdown",
   "metadata": {},
   "source": [
    "## top_regions_by_ev_sales()"
   ]
  },
  {
   "cell_type": "code",
   "execution_count": null,
   "metadata": {},
   "outputs": [],
   "source": [
    "ev_sales_df, ev_sales_share_df, ev_charging_points_df = load_data()"
   ]
  },
  {
   "cell_type": "code",
   "execution_count": null,
   "metadata": {},
   "outputs": [],
   "source": [
    "\n",
    "regions_to_remove = ['World', 'EU27', 'Europe', 'World']\n",
    "\n",
    "ev_sales_df = ev_sales_df[~ev_sales_df[\"Region\"].isin(regions_to_remove)]\n",
    "\n",
    "ev_sales_df = ev_sales_df[ev_sales_df[\"Year\"] == ev_sales_df[\"Year\"].max()]\n",
    "\n",
    "# Add up the values for each powertrain, reset index turns the Series into a DataFrame\n",
    "ev_sales_region_df = ev_sales_df.groupby([\"Region\"])[\"Cars Sold\"].sum().reset_index()\n",
    "# Sort the values\n",
    "ev_sales_region_df = ev_sales_region_df.sort_values(by=\"Cars Sold\", ascending=False)\n",
    "\n",
    "# Change data type to int\n",
    "ev_sales_region_df[\"Cars Sold\"] = ev_sales_region_df[\"Cars Sold\"].astype(int)\n",
    "\n",
    "# Reset index\n",
    "ev_sales_region_df = ev_sales_region_df.reset_index(drop=True).head(10)\n",
    "\n",
    "ev_sales_region_df\n"
   ]
  },
  {
   "cell_type": "code",
   "execution_count": 13,
   "metadata": {},
   "outputs": [],
   "source": [
    "def top_regions_by_ev_sales(ev_sales_df, year):\n",
    "    \"\"\"\n",
    "    Get the top 10 regions by EV sales\n",
    "    \"\"\"\n",
    "\n",
    "    # Remove the regions that we don't want to include\n",
    "    regions_to_remove = ['World', 'EU27', 'Europe', 'World']\n",
    "    ev_sales_df = ev_sales_df[~ev_sales_df[\"Region\"].isin(regions_to_remove)]\n",
    "\n",
    "    # Filter the data for the selected year\n",
    "    ev_sales_df = ev_sales_df[ev_sales_df[\"Year\"] == year]\n",
    "\n",
    "    # Add up the values for each powertrain, reset index turns the Series into a DataFrame\n",
    "    ev_sales_region_df = ev_sales_df.groupby([\"Region\"])[\"Cars Sold\"].sum().reset_index()\n",
    "    # Sort the values\n",
    "    ev_sales_region_df = ev_sales_region_df.sort_values(by=\"Cars Sold\", ascending=False)\n",
    "\n",
    "    # Change data type to int\n",
    "    ev_sales_region_df[\"Cars Sold\"] = ev_sales_region_df[\"Cars Sold\"].astype(int)\n",
    "\n",
    "    # Reset index\n",
    "    ev_sales_region_df = ev_sales_region_df.reset_index(drop=True).head(10)\n",
    "\n",
    "    return ev_sales_region_df"
   ]
  },
  {
   "cell_type": "code",
   "execution_count": null,
   "metadata": {},
   "outputs": [],
   "source": [
    "df1 = top_regions_by_ev_sales(ev_sales_df, 2023)\n",
    "df1"
   ]
  },
  {
   "cell_type": "markdown",
   "metadata": {},
   "source": [
    "## world_ev_sales_metric_card()"
   ]
  },
  {
   "cell_type": "code",
   "execution_count": null,
   "metadata": {},
   "outputs": [],
   "source": [
    "ev_sales_df, ev_sales_share_df, ev_charging_points_df = load_data()"
   ]
  },
  {
   "cell_type": "code",
   "execution_count": null,
   "metadata": {},
   "outputs": [],
   "source": [
    "ev_sales_df.tail(15)"
   ]
  },
  {
   "cell_type": "code",
   "execution_count": 17,
   "metadata": {},
   "outputs": [],
   "source": [
    "total_sales_current_year = ev_sales_df[ev_sales_df[\"Region\"] == \"World\"]\n",
    "\n",
    "current_year = ev_sales_df[\"Year\"].max()\n",
    "previous_year = current_year - 1\n",
    "\n",
    "total_sales_previous_year = total_sales_current_year.groupby(\"Year\")[\"Cars Sold\"].sum().loc[previous_year]\n",
    "total_sales_current_year = total_sales_current_year.groupby(\"Year\")[\"Cars Sold\"].sum().loc[current_year]\n",
    "\n",
    "# Convert to millions\n",
    "total_sales_previous_year = total_sales_previous_year / 1_000_000\n",
    "total_sales_current_year = total_sales_current_year / 1_000_000"
   ]
  },
  {
   "cell_type": "code",
   "execution_count": 32,
   "metadata": {},
   "outputs": [],
   "source": [
    "# Create a function that returns the last two years of data for the total EV sales metric card\n",
    "def world_ev_sales_metric_card(ev_sales_df, year):\n",
    "    world_ev_sales_df = ev_sales_df[ev_sales_df[\"Region\"] == \"World\"]\n",
    "\n",
    "    current_year = year\n",
    "    previous_year = current_year - 1\n",
    "\n",
    "    world_ev_sales_previous_year = world_ev_sales_df.groupby(\"Year\")[\"Cars Sold\"].sum().loc[previous_year]\n",
    "    world_ev_sales_current_year = world_ev_sales_df.groupby(\"Year\")[\"Cars Sold\"].sum().loc[current_year]\n",
    "\n",
    "    delta_previous_year = world_ev_sales_current_year - world_ev_sales_previous_year\n",
    "\n",
    "    # Convert to millions\n",
    "    world_ev_sales_current_year = world_ev_sales_current_year / 1_000_000\n",
    "    delta_previous_year = delta_previous_year / 1_000_000\n",
    "\n",
    "    return world_ev_sales_current_year, delta_previous_year"
   ]
  },
  {
   "cell_type": "code",
   "execution_count": null,
   "metadata": {},
   "outputs": [],
   "source": [
    "current_year, delta_previous_year = world_ev_sales_metric_card(ev_sales_df, 2023)\n",
    "current_year, delta_previous_year\n"
   ]
  },
  {
   "cell_type": "markdown",
   "metadata": {},
   "source": [
    "## world_charging_points_metric_card()"
   ]
  },
  {
   "cell_type": "code",
   "execution_count": null,
   "metadata": {},
   "outputs": [],
   "source": [
    "ev_charging_points_df"
   ]
  },
  {
   "cell_type": "code",
   "execution_count": null,
   "metadata": {},
   "outputs": [],
   "source": [
    "world_charging_points_df = ev_charging_points_df[ev_charging_points_df[\"Region\"] == \"World\"]\n",
    "\n",
    "current_year = world_charging_points_df[\"Year\"].max()\n",
    "previous_year = current_year - 1    \n",
    "\n",
    "world_charging_points_previous_year = world_charging_points_df.groupby(\"Year\")[\"Charging Points\"].sum().loc[previous_year]\n",
    "world_charging_points_current_year = world_charging_points_df.groupby(\"Year\")[\"Charging Points\"].sum().loc[current_year]\n",
    "\n",
    "delta_previous_year = world_charging_points_current_year - world_charging_points_previous_year\n",
    "\n",
    "world_charging_points_current_year, delta_previous_year"
   ]
  },
  {
   "cell_type": "code",
   "execution_count": 29,
   "metadata": {},
   "outputs": [],
   "source": [
    "def world_charging_points_metric_card(ev_charging_points_df):\n",
    "    \"\"\"\n",
    "    Get the total EV charging points for the current and previous year\n",
    "    \"\"\"\n",
    "\n",
    "    # Filter the data for the World region\n",
    "    world_charging_points_df = ev_charging_points_df[ev_charging_points_df[\"Region\"] == \"World\"]\n",
    "\n",
    "    # Get the current and previous year\n",
    "    current_year = world_charging_points_df[\"Year\"].max()\n",
    "    previous_year = current_year - 1    \n",
    "\n",
    "    # Get the total charging points for the current and previous year\n",
    "    world_charging_points_previous_year = world_charging_points_df.groupby(\"Year\")[\"Charging Points\"].sum().loc[previous_year]\n",
    "    world_charging_points_current_year = world_charging_points_df.groupby(\"Year\")[\"Charging Points\"].sum().loc[current_year]\n",
    "\n",
    "    # Calculate the delta between the current and previous year\n",
    "    delta_previous_year = world_charging_points_current_year - world_charging_points_previous_year\n",
    "\n",
    "    # Convert to millions\n",
    "    world_charging_points_current_year = world_charging_points_current_year / 1_000_000\n",
    "    delta_previous_year = delta_previous_year / 1_000_000\n",
    "\n",
    "    return world_charging_points_current_year, delta_previous_year\n"
   ]
  },
  {
   "cell_type": "code",
   "execution_count": null,
   "metadata": {},
   "outputs": [],
   "source": [
    "current_year, delta_previous_year = world_charging_points_metric_card(ev_charging_points_df)\n",
    "current_year, delta_previous_year"
   ]
  },
  {
   "cell_type": "markdown",
   "metadata": {},
   "source": [
    "## world_ev_sales_growth_metric_card()"
   ]
  },
  {
   "cell_type": "code",
   "execution_count": 38,
   "metadata": {},
   "outputs": [],
   "source": [
    "def world_ev_sales_growth_metric_card(ev_sales_df, year):\n",
    "    \"\"\"\n",
    "    Get the current and previous year of data for the World EV Sales Growth metric card\n",
    "    \"\"\"\n",
    "\n",
    "    # Filter the data for the World region\n",
    "    world_ev_sales_df = ev_sales_df[ev_sales_df[\"Region\"] == \"World\"]\n",
    "\n",
    "    # Get the current and previous year\n",
    "    current_year = year\n",
    "    previous_year = current_year - 1\n",
    "    previous_year_2 = previous_year - 1\n",
    "\n",
    "    # Get the total sales for the current and previous year\n",
    "    world_ev_sales_previous_year = world_ev_sales_df.groupby(\"Year\")[\"Cars Sold\"].sum().loc[previous_year]\n",
    "    world_ev_sales_current_year = world_ev_sales_df.groupby(\"Year\")[\"Cars Sold\"].sum().loc[current_year]\n",
    "    world_ev_sales_previous_year_2 = world_ev_sales_df.groupby(\"Year\")[\"Cars Sold\"].sum().loc[previous_year_2]\n",
    "\n",
    "    # Current year growth\n",
    "    current_year_growth = (world_ev_sales_current_year / world_ev_sales_previous_year) - 1\n",
    "    # Previous year growth\n",
    "    previous_year_growth = (world_ev_sales_previous_year / world_ev_sales_previous_year_2) - 1\n",
    "\n",
    "    return current_year_growth, previous_year_growth"
   ]
  },
  {
   "cell_type": "code",
   "execution_count": null,
   "metadata": {},
   "outputs": [],
   "source": [
    "current_year_growth, previous_year_growth = world_ev_sales_growth_metric_card(ev_sales_df, 2023)\n",
    "current_year_growth, previous_year_growth"
   ]
  }
 ],
 "metadata": {
  "kernelspec": {
   "display_name": "streamlit-demo",
   "language": "python",
   "name": "python3"
  },
  "language_info": {
   "codemirror_mode": {
    "name": "ipython",
    "version": 3
   },
   "file_extension": ".py",
   "mimetype": "text/x-python",
   "name": "python",
   "nbconvert_exporter": "python",
   "pygments_lexer": "ipython3",
   "version": "3.12.7"
  }
 },
 "nbformat": 4,
 "nbformat_minor": 2
}
